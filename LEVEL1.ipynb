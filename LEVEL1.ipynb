{
 "cells": [
  {
   "cell_type": "markdown",
   "metadata": {},
   "source": [
    "LEVEL 1"
   ]
  },
  {
   "cell_type": "code",
   "execution_count": 1,
   "metadata": {},
   "outputs": [
    {
     "data": {
      "text/html": [
       "<div>\n",
       "<style scoped>\n",
       "    .dataframe tbody tr th:only-of-type {\n",
       "        vertical-align: middle;\n",
       "    }\n",
       "\n",
       "    .dataframe tbody tr th {\n",
       "        vertical-align: top;\n",
       "    }\n",
       "\n",
       "    .dataframe thead th {\n",
       "        text-align: right;\n",
       "    }\n",
       "</style>\n",
       "<table border=\"1\" class=\"dataframe\">\n",
       "  <thead>\n",
       "    <tr style=\"text-align: right;\">\n",
       "      <th></th>\n",
       "      <th>Restaurant ID</th>\n",
       "      <th>Restaurant Name</th>\n",
       "      <th>Country Code</th>\n",
       "      <th>City</th>\n",
       "      <th>Address</th>\n",
       "      <th>Locality</th>\n",
       "      <th>Locality Verbose</th>\n",
       "      <th>Longitude</th>\n",
       "      <th>Latitude</th>\n",
       "      <th>Cuisines</th>\n",
       "      <th>...</th>\n",
       "      <th>Currency</th>\n",
       "      <th>Has Table booking</th>\n",
       "      <th>Has Online delivery</th>\n",
       "      <th>Is delivering now</th>\n",
       "      <th>Switch to order menu</th>\n",
       "      <th>Price range</th>\n",
       "      <th>Aggregate rating</th>\n",
       "      <th>Rating color</th>\n",
       "      <th>Rating text</th>\n",
       "      <th>Votes</th>\n",
       "    </tr>\n",
       "  </thead>\n",
       "  <tbody>\n",
       "    <tr>\n",
       "      <th>0</th>\n",
       "      <td>6317637</td>\n",
       "      <td>Le Petit Souffle</td>\n",
       "      <td>162</td>\n",
       "      <td>Makati City</td>\n",
       "      <td>Third Floor, Century City Mall, Kalayaan Avenu...</td>\n",
       "      <td>Century City Mall, Poblacion, Makati City</td>\n",
       "      <td>Century City Mall, Poblacion, Makati City, Mak...</td>\n",
       "      <td>121.027535</td>\n",
       "      <td>14.565443</td>\n",
       "      <td>French, Japanese, Desserts</td>\n",
       "      <td>...</td>\n",
       "      <td>Botswana Pula(P)</td>\n",
       "      <td>Yes</td>\n",
       "      <td>No</td>\n",
       "      <td>No</td>\n",
       "      <td>No</td>\n",
       "      <td>3</td>\n",
       "      <td>4.8</td>\n",
       "      <td>Dark Green</td>\n",
       "      <td>Excellent</td>\n",
       "      <td>314</td>\n",
       "    </tr>\n",
       "    <tr>\n",
       "      <th>1</th>\n",
       "      <td>6304287</td>\n",
       "      <td>Izakaya Kikufuji</td>\n",
       "      <td>162</td>\n",
       "      <td>Makati City</td>\n",
       "      <td>Little Tokyo, 2277 Chino Roces Avenue, Legaspi...</td>\n",
       "      <td>Little Tokyo, Legaspi Village, Makati City</td>\n",
       "      <td>Little Tokyo, Legaspi Village, Makati City, Ma...</td>\n",
       "      <td>121.014101</td>\n",
       "      <td>14.553708</td>\n",
       "      <td>Japanese</td>\n",
       "      <td>...</td>\n",
       "      <td>Botswana Pula(P)</td>\n",
       "      <td>Yes</td>\n",
       "      <td>No</td>\n",
       "      <td>No</td>\n",
       "      <td>No</td>\n",
       "      <td>3</td>\n",
       "      <td>4.5</td>\n",
       "      <td>Dark Green</td>\n",
       "      <td>Excellent</td>\n",
       "      <td>591</td>\n",
       "    </tr>\n",
       "    <tr>\n",
       "      <th>2</th>\n",
       "      <td>6300002</td>\n",
       "      <td>Heat - Edsa Shangri-La</td>\n",
       "      <td>162</td>\n",
       "      <td>Mandaluyong City</td>\n",
       "      <td>Edsa Shangri-La, 1 Garden Way, Ortigas, Mandal...</td>\n",
       "      <td>Edsa Shangri-La, Ortigas, Mandaluyong City</td>\n",
       "      <td>Edsa Shangri-La, Ortigas, Mandaluyong City, Ma...</td>\n",
       "      <td>121.056831</td>\n",
       "      <td>14.581404</td>\n",
       "      <td>Seafood, Asian, Filipino, Indian</td>\n",
       "      <td>...</td>\n",
       "      <td>Botswana Pula(P)</td>\n",
       "      <td>Yes</td>\n",
       "      <td>No</td>\n",
       "      <td>No</td>\n",
       "      <td>No</td>\n",
       "      <td>4</td>\n",
       "      <td>4.4</td>\n",
       "      <td>Green</td>\n",
       "      <td>Very Good</td>\n",
       "      <td>270</td>\n",
       "    </tr>\n",
       "    <tr>\n",
       "      <th>3</th>\n",
       "      <td>6318506</td>\n",
       "      <td>Ooma</td>\n",
       "      <td>162</td>\n",
       "      <td>Mandaluyong City</td>\n",
       "      <td>Third Floor, Mega Fashion Hall, SM Megamall, O...</td>\n",
       "      <td>SM Megamall, Ortigas, Mandaluyong City</td>\n",
       "      <td>SM Megamall, Ortigas, Mandaluyong City, Mandal...</td>\n",
       "      <td>121.056475</td>\n",
       "      <td>14.585318</td>\n",
       "      <td>Japanese, Sushi</td>\n",
       "      <td>...</td>\n",
       "      <td>Botswana Pula(P)</td>\n",
       "      <td>No</td>\n",
       "      <td>No</td>\n",
       "      <td>No</td>\n",
       "      <td>No</td>\n",
       "      <td>4</td>\n",
       "      <td>4.9</td>\n",
       "      <td>Dark Green</td>\n",
       "      <td>Excellent</td>\n",
       "      <td>365</td>\n",
       "    </tr>\n",
       "    <tr>\n",
       "      <th>4</th>\n",
       "      <td>6314302</td>\n",
       "      <td>Sambo Kojin</td>\n",
       "      <td>162</td>\n",
       "      <td>Mandaluyong City</td>\n",
       "      <td>Third Floor, Mega Atrium, SM Megamall, Ortigas...</td>\n",
       "      <td>SM Megamall, Ortigas, Mandaluyong City</td>\n",
       "      <td>SM Megamall, Ortigas, Mandaluyong City, Mandal...</td>\n",
       "      <td>121.057508</td>\n",
       "      <td>14.584450</td>\n",
       "      <td>Japanese, Korean</td>\n",
       "      <td>...</td>\n",
       "      <td>Botswana Pula(P)</td>\n",
       "      <td>Yes</td>\n",
       "      <td>No</td>\n",
       "      <td>No</td>\n",
       "      <td>No</td>\n",
       "      <td>4</td>\n",
       "      <td>4.8</td>\n",
       "      <td>Dark Green</td>\n",
       "      <td>Excellent</td>\n",
       "      <td>229</td>\n",
       "    </tr>\n",
       "  </tbody>\n",
       "</table>\n",
       "<p>5 rows × 21 columns</p>\n",
       "</div>"
      ],
      "text/plain": [
       "   Restaurant ID         Restaurant Name  Country Code              City  \\\n",
       "0        6317637        Le Petit Souffle           162       Makati City   \n",
       "1        6304287        Izakaya Kikufuji           162       Makati City   \n",
       "2        6300002  Heat - Edsa Shangri-La           162  Mandaluyong City   \n",
       "3        6318506                    Ooma           162  Mandaluyong City   \n",
       "4        6314302             Sambo Kojin           162  Mandaluyong City   \n",
       "\n",
       "                                             Address  \\\n",
       "0  Third Floor, Century City Mall, Kalayaan Avenu...   \n",
       "1  Little Tokyo, 2277 Chino Roces Avenue, Legaspi...   \n",
       "2  Edsa Shangri-La, 1 Garden Way, Ortigas, Mandal...   \n",
       "3  Third Floor, Mega Fashion Hall, SM Megamall, O...   \n",
       "4  Third Floor, Mega Atrium, SM Megamall, Ortigas...   \n",
       "\n",
       "                                     Locality  \\\n",
       "0   Century City Mall, Poblacion, Makati City   \n",
       "1  Little Tokyo, Legaspi Village, Makati City   \n",
       "2  Edsa Shangri-La, Ortigas, Mandaluyong City   \n",
       "3      SM Megamall, Ortigas, Mandaluyong City   \n",
       "4      SM Megamall, Ortigas, Mandaluyong City   \n",
       "\n",
       "                                    Locality Verbose   Longitude   Latitude  \\\n",
       "0  Century City Mall, Poblacion, Makati City, Mak...  121.027535  14.565443   \n",
       "1  Little Tokyo, Legaspi Village, Makati City, Ma...  121.014101  14.553708   \n",
       "2  Edsa Shangri-La, Ortigas, Mandaluyong City, Ma...  121.056831  14.581404   \n",
       "3  SM Megamall, Ortigas, Mandaluyong City, Mandal...  121.056475  14.585318   \n",
       "4  SM Megamall, Ortigas, Mandaluyong City, Mandal...  121.057508  14.584450   \n",
       "\n",
       "                           Cuisines  ...          Currency Has Table booking  \\\n",
       "0        French, Japanese, Desserts  ...  Botswana Pula(P)               Yes   \n",
       "1                          Japanese  ...  Botswana Pula(P)               Yes   \n",
       "2  Seafood, Asian, Filipino, Indian  ...  Botswana Pula(P)               Yes   \n",
       "3                   Japanese, Sushi  ...  Botswana Pula(P)                No   \n",
       "4                  Japanese, Korean  ...  Botswana Pula(P)               Yes   \n",
       "\n",
       "  Has Online delivery Is delivering now Switch to order menu Price range  \\\n",
       "0                  No                No                   No           3   \n",
       "1                  No                No                   No           3   \n",
       "2                  No                No                   No           4   \n",
       "3                  No                No                   No           4   \n",
       "4                  No                No                   No           4   \n",
       "\n",
       "   Aggregate rating  Rating color Rating text Votes  \n",
       "0               4.8    Dark Green   Excellent   314  \n",
       "1               4.5    Dark Green   Excellent   591  \n",
       "2               4.4         Green   Very Good   270  \n",
       "3               4.9    Dark Green   Excellent   365  \n",
       "4               4.8    Dark Green   Excellent   229  \n",
       "\n",
       "[5 rows x 21 columns]"
      ]
     },
     "execution_count": 1,
     "metadata": {},
     "output_type": "execute_result"
    }
   ],
   "source": [
    "# importing pandas module\n",
    "import pandas as pd\n",
    "\n",
    "# importing matplot module\n",
    "import matplotlib.pyplot as plt\n",
    "\n",
    "# importing numpy module\n",
    "import numpy as np\n",
    "\n",
    "# creating the data frame \n",
    "data = pd.read_csv(\"Dataset.csv\")\n",
    "data.head()"
   ]
  },
  {
   "cell_type": "markdown",
   "metadata": {},
   "source": [
    "TASK 1 - TOP CUISINES"
   ]
  },
  {
   "cell_type": "markdown",
   "metadata": {},
   "source": [
    "1. Determine the top three most common cuisines in the dataset."
   ]
  },
  {
   "cell_type": "code",
   "execution_count": 2,
   "metadata": {},
   "outputs": [
    {
     "name": "stdout",
     "output_type": "stream",
     "text": [
      "The top three most commom cuisines are: \n",
      "Cuisines\n",
      "[North Indian]             936\n",
      "[North Indian, Chinese]    511\n",
      "[Chinese]                  354\n",
      "Name: count, dtype: int64\n"
     ]
    }
   ],
   "source": [
    "data['Cuisines'] = data['Cuisines'].str.split(', ')\n",
    "data_explode = data.explode('Cuisines')\n",
    "top_cuisines = data['Cuisines'].value_counts().head(3)\n",
    "print(\"The top three most commom cuisines are: \")\n",
    "print(top_cuisines)"
   ]
  },
  {
   "cell_type": "markdown",
   "metadata": {},
   "source": [
    "2. Calculate the percentage of restaurants that serve each of the top cuisines."
   ]
  },
  {
   "cell_type": "code",
   "execution_count": 3,
   "metadata": {},
   "outputs": [
    {
     "name": "stdout",
     "output_type": "stream",
     "text": [
      "The percentage of restaurants that serve the top three cuisines are: \n",
      "Cuisines: North Indian, Percentage: 44.45%\n",
      "Cuisines: Chinese, Percentage: 31.47%\n",
      "Cuisines: Fast Food, Percentage: 17.69%\n"
     ]
    }
   ],
   "source": [
    "grouped_data = data_explode.groupby(['Restaurant Name','Cuisines']).size().reset_index(name='count')\n",
    "pivot_data = grouped_data.pivot(index='Restaurant Name', columns='Cuisines', values='count').fillna(0)\n",
    "top_3_cuisines = pivot_data.sum().nlargest(3)\n",
    "percentage_per_cuisine = (pivot_data[top_3_cuisines.index]>0).sum()/len(data['Restaurant Name'].unique())*100\n",
    "print(\"The percentage of restaurants that serve the top three cuisines are: \")\n",
    "for Cuisines, percentage in percentage_per_cuisine.items():\n",
    "    print(f\"Cuisines: {Cuisines}, Percentage: {percentage:.2f}%\")"
   ]
  },
  {
   "cell_type": "markdown",
   "metadata": {},
   "source": [
    "TASK 2 - CITY ANALYSIS"
   ]
  },
  {
   "cell_type": "markdown",
   "metadata": {},
   "source": [
    "1. Identify the city with the highest numberof restaurants in the dataset."
   ]
  },
  {
   "cell_type": "code",
   "execution_count": 4,
   "metadata": {},
   "outputs": [
    {
     "name": "stdout",
     "output_type": "stream",
     "text": [
      "Now the data has been grouped as per the city\n",
      "Number of restaurants in each city: \n",
      "City\n",
      "Abu Dhabi                   20\n",
      "Agra                        20\n",
      "Ahmedabad                   21\n",
      "Albany                      20\n",
      "Allahabad                   20\n",
      "Amritsar                    21\n",
      "Ankara                      20\n",
      "Armidale                     1\n",
      "Athens                      20\n",
      "Auckland                    20\n",
      "Augusta                     20\n",
      "Aurangabad                  20\n",
      "Balingup                     1\n",
      "Bandung                      1\n",
      "Bangalore                   20\n",
      "Beechworth                   1\n",
      "Bhopal                      20\n",
      "Bhubaneshwar                21\n",
      "Birmingham                  20\n",
      "Bogor                        2\n",
      "Boise                       20\n",
      "Bras�_lia                   20\n",
      "Cape Town                   20\n",
      "Cedar Rapids/Iowa City      20\n",
      "Chandigarh                  18\n",
      "Chatham-Kent                 1\n",
      "Chennai                     20\n",
      "Clatskanie                   1\n",
      "Cochrane                     1\n",
      "Coimbatore                  20\n",
      "Colombo                     20\n",
      "Columbus                    20\n",
      "Consort                      1\n",
      "Dalton                      20\n",
      "Davenport                   20\n",
      "Dehradun                    20\n",
      "Des Moines                  20\n",
      "Dicky Beach                  1\n",
      "Doha                        20\n",
      "Dubai                       20\n",
      "Dubuque                     20\n",
      "East Ballina                 1\n",
      "Edinburgh                   20\n",
      "Faridabad                  251\n",
      "Fernley                      1\n",
      "Flaxton                      1\n",
      "Forrest                      1\n",
      "Gainesville                 20\n",
      "Ghaziabad                   25\n",
      "Goa                         20\n",
      "Gurgaon                   1118\n",
      "Guwahati                    21\n",
      "Hepburn Springs              2\n",
      "Huskisson                    1\n",
      "Hyderabad                   18\n",
      "Indore                      20\n",
      "Inner City                   2\n",
      "Inverloch                    1\n",
      "Jaipur                      20\n",
      "Jakarta                     16\n",
      "Johannesburg                 6\n",
      "Kanpur                      20\n",
      "Kochi                       20\n",
      "Kolkata                     20\n",
      "Lakes Entrance               1\n",
      "Lakeview                     1\n",
      "Lincoln                      1\n",
      "London                      20\n",
      "Lorn                         1\n",
      "Lucknow                     21\n",
      "Ludhiana                    20\n",
      "Macedon                      1\n",
      "Macon                       20\n",
      "Makati City                  2\n",
      "Manchester                  20\n",
      "Mandaluyong City             4\n",
      "Mangalore                   20\n",
      "Mayfield                     1\n",
      "Mc Millan                    1\n",
      "Middleton Beach              1\n",
      "Miller                       1\n",
      "Mohali                       1\n",
      "Monroe                       1\n",
      "Montville                    1\n",
      "Mumbai                      20\n",
      "Mysore                      20\n",
      "Nagpur                      20\n",
      "Nashik                      20\n",
      "New Delhi                 5473\n",
      "Noida                     1080\n",
      "Ojo Caliente                 1\n",
      "Orlando                     20\n",
      "Palm Cove                    1\n",
      "Panchkula                    1\n",
      "Pasay City                   3\n",
      "Pasig City                   3\n",
      "Patna                       20\n",
      "Paynesville                  1\n",
      "Penola                       1\n",
      "Pensacola                   20\n",
      "Phillip Island               1\n",
      "Pocatello                   20\n",
      "Potrero                      1\n",
      "Pretoria                    20\n",
      "Princeton                    1\n",
      "Puducherry                  20\n",
      "Pune                        20\n",
      "Quezon City                  1\n",
      "Ranchi                      20\n",
      "Randburg                     1\n",
      "Rest of Hawaii              20\n",
      "Rio de Janeiro              20\n",
      "San Juan City                2\n",
      "Sandton                     11\n",
      "Santa Rosa                   2\n",
      "Savannah                    20\n",
      "Secunderabad                 2\n",
      "Sharjah                     20\n",
      "Singapore                   20\n",
      "Sioux City                  20\n",
      "Surat                       20\n",
      "S��o Paulo                  20\n",
      "Tagaytay City                1\n",
      "Taguig City                  4\n",
      "Tampa Bay                   20\n",
      "Tangerang                    2\n",
      "Tanunda                      1\n",
      "Trentham East                1\n",
      "Vadodara                    20\n",
      "Valdosta                    20\n",
      "Varanasi                    20\n",
      "Vernonia                     1\n",
      "Victor Harbor                1\n",
      "Vineland Station             1\n",
      "Vizag                       20\n",
      "Waterloo                    20\n",
      "Weirton                      1\n",
      "Wellington City             20\n",
      "Winchester Bay               1\n",
      "Yorkton                      1\n",
      "��stanbul                   14\n",
      "Name: Restaurant Name, dtype: int64\n",
      "\n",
      "\n",
      "The city with max restaurants is: \n",
      "New Delhi\n"
     ]
    }
   ],
   "source": [
    "pd.set_option('display.max_rows', None)\n",
    "city_data = data.groupby('City')\n",
    "print(\"Now the data has been grouped as per the city\")\n",
    "restaurant_count_by_city = city_data['Restaurant Name'].count()\n",
    "print(\"Number of restaurants in each city: \")\n",
    "print(restaurant_count_by_city)\n",
    "city_with_max_restaurants = restaurant_count_by_city.idxmax(axis=0,skipna=True)\n",
    "print(\"\\n\")\n",
    "print(\"The city with max restaurants is: \")\n",
    "print(city_with_max_restaurants)"
   ]
  },
  {
   "cell_type": "markdown",
   "metadata": {},
   "source": [
    "2. Calculate the average rating forrestaurants in each city."
   ]
  },
  {
   "cell_type": "code",
   "execution_count": 5,
   "metadata": {},
   "outputs": [
    {
     "name": "stdout",
     "output_type": "stream",
     "text": [
      "Average rating for restaurants in each city is as follows: \n",
      "                        Aggregate rating\n",
      "City                                    \n",
      "Abu Dhabi                       4.300000\n",
      "Agra                            3.965000\n",
      "Ahmedabad                       4.161905\n",
      "Albany                          3.555000\n",
      "Allahabad                       3.395000\n",
      "Amritsar                        3.685714\n",
      "Ankara                          4.305000\n",
      "Armidale                        3.500000\n",
      "Athens                          4.200000\n",
      "Auckland                        4.275000\n",
      "Augusta                         4.130000\n",
      "Aurangabad                      3.375000\n",
      "Balingup                        3.200000\n",
      "Bandung                         4.200000\n",
      "Bangalore                       4.375000\n",
      "Beechworth                      4.600000\n",
      "Bhopal                          3.950000\n",
      "Bhubaneshwar                    3.980952\n",
      "Birmingham                      3.680000\n",
      "Bogor                           3.850000\n",
      "Boise                           4.260000\n",
      "Bras�_lia                       3.495000\n",
      "Cape Town                       4.110000\n",
      "Cedar Rapids/Iowa City          4.165000\n",
      "Chandigarh                      4.050000\n",
      "Chatham-Kent                    3.700000\n",
      "Chennai                         4.315000\n",
      "Clatskanie                      4.300000\n",
      "Cochrane                        3.100000\n",
      "Coimbatore                      4.135000\n",
      "Colombo                         3.870000\n",
      "Columbus                        4.030000\n",
      "Consort                         3.000000\n",
      "Dalton                          4.110000\n",
      "Davenport                       3.715000\n",
      "Dehradun                        4.050000\n",
      "Des Moines                      4.235000\n",
      "Dicky Beach                     3.600000\n",
      "Doha                            4.060000\n",
      "Dubai                           4.370000\n",
      "Dubuque                         3.535000\n",
      "East Ballina                    4.100000\n",
      "Edinburgh                       4.090000\n",
      "Faridabad                       1.866932\n",
      "Fernley                         3.700000\n",
      "Flaxton                         3.500000\n",
      "Forrest                         3.700000\n",
      "Gainesville                     4.035000\n",
      "Ghaziabad                       2.852000\n",
      "Goa                             4.245000\n",
      "Gurgaon                         2.651431\n",
      "Guwahati                        4.190476\n",
      "Hepburn Springs                 3.800000\n",
      "Huskisson                       4.100000\n",
      "Hyderabad                       4.344444\n",
      "Indore                          3.970000\n",
      "Inner City                      4.900000\n",
      "Inverloch                       3.700000\n",
      "Jaipur                          4.130000\n",
      "Jakarta                         4.356250\n",
      "Johannesburg                    4.200000\n",
      "Kanpur                          3.815000\n",
      "Kochi                           4.080000\n",
      "Kolkata                         4.255000\n",
      "Lakes Entrance                  3.800000\n",
      "Lakeview                        3.600000\n",
      "Lincoln                         4.500000\n",
      "London                          4.535000\n",
      "Lorn                            3.600000\n",
      "Lucknow                         4.195238\n",
      "Ludhiana                        3.980000\n",
      "Macedon                         3.500000\n",
      "Macon                           4.115000\n",
      "Makati City                     4.650000\n",
      "Manchester                      4.045000\n",
      "Mandaluyong City                4.625000\n",
      "Mangalore                       3.745000\n",
      "Mayfield                        2.900000\n",
      "Mc Millan                       2.400000\n",
      "Middleton Beach                 3.800000\n",
      "Miller                          3.400000\n",
      "Mohali                          4.300000\n",
      "Monroe                          3.600000\n",
      "Montville                       2.400000\n",
      "Mumbai                          4.085000\n",
      "Mysore                          3.695000\n",
      "Nagpur                          3.965000\n",
      "Nashik                          3.520000\n",
      "New Delhi                       2.438845\n",
      "Noida                           2.036204\n",
      "Ojo Caliente                    3.600000\n",
      "Orlando                         4.475000\n",
      "Palm Cove                       4.400000\n",
      "Panchkula                       4.200000\n",
      "Pasay City                      4.366667\n",
      "Pasig City                      4.633333\n",
      "Patna                           3.455000\n",
      "Paynesville                     2.600000\n",
      "Penola                          3.400000\n",
      "Pensacola                       4.200000\n",
      "Phillip Island                  3.700000\n",
      "Pocatello                       3.485000\n",
      "Potrero                         3.300000\n",
      "Pretoria                        4.190000\n",
      "Princeton                       4.000000\n",
      "Puducherry                      3.730000\n",
      "Pune                            4.220000\n",
      "Quezon City                     4.800000\n",
      "Ranchi                          3.455000\n",
      "Randburg                        4.300000\n",
      "Rest of Hawaii                  4.410000\n",
      "Rio de Janeiro                  4.265000\n",
      "San Juan City                   4.250000\n",
      "Sandton                         4.300000\n",
      "Santa Rosa                      3.800000\n",
      "Savannah                        4.155000\n",
      "Secunderabad                    4.500000\n",
      "Sharjah                         4.030000\n",
      "Singapore                       3.575000\n",
      "Sioux City                      3.765000\n",
      "Surat                           3.935000\n",
      "S��o Paulo                      3.530000\n",
      "Tagaytay City                   4.500000\n",
      "Taguig City                     4.525000\n",
      "Tampa Bay                       4.410000\n",
      "Tangerang                       4.300000\n",
      "Tanunda                         4.400000\n",
      "Trentham East                   4.100000\n",
      "Vadodara                        4.025000\n",
      "Valdosta                        3.715000\n",
      "Varanasi                        3.510000\n",
      "Vernonia                        4.300000\n",
      "Victor Harbor                   3.600000\n",
      "Vineland Station                4.300000\n",
      "Vizag                           4.005000\n",
      "Waterloo                        3.650000\n",
      "Weirton                         3.900000\n",
      "Wellington City                 4.250000\n",
      "Winchester Bay                  3.200000\n",
      "Yorkton                         3.300000\n",
      "��stanbul                       4.292857\n"
     ]
    }
   ],
   "source": [
    "average_rating = city_data.agg({'Aggregate rating': 'mean'})\n",
    "print(\"Average rating for restaurants in each city is as follows: \")\n",
    "print(average_rating)"
   ]
  },
  {
   "cell_type": "markdown",
   "metadata": {},
   "source": [
    "3. Determine the city with the highestaverage rating."
   ]
  },
  {
   "cell_type": "code",
   "execution_count": 6,
   "metadata": {},
   "outputs": [
    {
     "name": "stdout",
     "output_type": "stream",
     "text": [
      "The city having the highest average rating is: \n",
      "Aggregate rating    Inner City\n",
      "dtype: object\n"
     ]
    }
   ],
   "source": [
    "highest_average_rating = average_rating.idxmax(axis=0,skipna=True)\n",
    "print(\"The city having the highest average rating is: \")\n",
    "print(f\"{highest_average_rating}\")"
   ]
  },
  {
   "cell_type": "markdown",
   "metadata": {},
   "source": [
    "TASK 3 : Price Range Distribution"
   ]
  },
  {
   "cell_type": "markdown",
   "metadata": {},
   "source": [
    "1. Create a histogram or bar chart to visualize the distribution of price ranges among the restaurants."
   ]
  },
  {
   "cell_type": "code",
   "execution_count": 7,
   "metadata": {},
   "outputs": [
    {
     "data": {
      "image/png": "[encoded data removed]",
      "text/plain": [
       "<Figure size 640x480 with 1 Axes>"
      ]
     },
     "metadata": {},
     "output_type": "display_data"
    }
   ],
   "source": [
    "price_range = data['Price range']\n",
    "price_range_counts = price_range.value_counts()\n",
    "sorted_price_range = price_range_counts.index.sort_values()\n",
    "plt.hist(price_range, bins='auto', color='skyblue', edgecolor='black')\n",
    "plt.xlabel('Price Ranges')\n",
    "plt.ylabel('Number of Restaurants')\n",
    "plt.title('Distribution of Price Ranges Among Restaurants')\n",
    "plt.show()"
   ]
  },
  {
   "cell_type": "markdown",
   "metadata": {},
   "source": [
    "2. Calculate the percentage of restaurants in each price range category."
   ]
  },
  {
   "cell_type": "code",
   "execution_count": 8,
   "metadata": {},
   "outputs": [
    {
     "name": "stdout",
     "output_type": "stream",
     "text": [
      "Percentage of restaurants in each price range category is : \n",
      "Price range\n",
      "1    46.529159\n",
      "2    32.593446\n",
      "3    14.741912\n",
      "4     6.135483\n",
      "Name: proportion, dtype: float64\n"
     ]
    }
   ],
   "source": [
    "price_range_percentage = data['Price range'].value_counts(normalize=True) * 100\n",
    "print(\"Percentage of restaurants in each price range category is : \")\n",
    "print(price_range_percentage)"
   ]
  },
  {
   "cell_type": "markdown",
   "metadata": {},
   "source": [
    "TASK 4 : Online Delivery"
   ]
  },
  {
   "cell_type": "markdown",
   "metadata": {},
   "source": [
    "1. Determine the percentage of restaurants that offer online delivery."
   ]
  },
  {
   "cell_type": "code",
   "execution_count": 9,
   "metadata": {},
   "outputs": [
    {
     "name": "stdout",
     "output_type": "stream",
     "text": [
      "Percentage of restaurants that offers online delivery is : \n",
      "Has Online delivery\n",
      "No     74.337766\n",
      "Yes    25.662234\n",
      "Name: proportion, dtype: float64\n"
     ]
    }
   ],
   "source": [
    "online_delivery_percentage = data['Has Online delivery'].value_counts(normalize=True) * 100\n",
    "print(\"Percentage of restaurants that offers online delivery is : \")\n",
    "print(online_delivery_percentage)"
   ]
  },
  {
   "cell_type": "markdown",
   "metadata": {},
   "source": [
    "2. Compare the average ratings of restaurants with and without online delivery."
   ]
  },
  {
   "cell_type": "code",
   "execution_count": 10,
   "metadata": {},
   "outputs": [
    {
     "name": "stdout",
     "output_type": "stream",
     "text": [
      "Average Rating with Online Delivery: 3.25\n",
      "Average Rating without Online Delivery: 2.47\n"
     ]
    }
   ],
   "source": [
    "data_has_online_delivery_rating = data[data['Has Online delivery'] == 'Yes']\n",
    "data_does_not_have_online_delivery_rating = data[data['Has Online delivery'] == 'No']\n",
    "average_rating_with_delivery = data_has_online_delivery_rating['Aggregate rating'].mean()\n",
    "average_rating_without_delivery = data_does_not_have_online_delivery_rating['Aggregate rating'].mean()\n",
    "print(f\"Average Rating with Online Delivery: {average_rating_with_delivery:.2f}\")\n",
    "print(f\"Average Rating without Online Delivery: {average_rating_without_delivery:.2f}\")"
   ]
  }
 ],
 "metadata": {
  "kernelspec": {
   "display_name": "base",
   "language": "python",
   "name": "python3"
  },
  "language_info": {
   "codemirror_mode": {
    "name": "ipython",
    "version": 3
   },
   "file_extension": ".py",
   "mimetype": "text/x-python",
   "name": "python",
   "nbconvert_exporter": "python",
   "pygments_lexer": "ipython3",
   "version": "3.11.7"
  }
 },
 "nbformat": 4,
 "nbformat_minor": 2
}
